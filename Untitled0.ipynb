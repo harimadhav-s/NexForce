{
  "nbformat": 4,
  "nbformat_minor": 0,
  "metadata": {
    "colab": {
      "provenance": [],
      "mount_file_id": "1mysQSsTGYmhwbCtfEVT25SW0O93pP-OZ",
      "authorship_tag": "ABX9TyO+BOXH9YJDfbgUzbYUT+UI",
      "include_colab_link": true
    },
    "kernelspec": {
      "name": "python3",
      "display_name": "Python 3"
    },
    "language_info": {
      "name": "python"
    }
  },
  "cells": [
    {
      "cell_type": "markdown",
      "metadata": {
        "id": "view-in-github",
        "colab_type": "text"
      },
      "source": [
        "<a href=\"https://colab.research.google.com/github/harimadhav-s/NexForce/blob/main/Untitled0.ipynb\" target=\"_parent\"><img src=\"https://colab.research.google.com/assets/colab-badge.svg\" alt=\"Open In Colab\"/></a>"
      ]
    },
    {
      "cell_type": "code",
      "execution_count": 1,
      "metadata": {
        "id": "moHqLUfio1bJ"
      },
      "outputs": [],
      "source": [
        "import pandas as pd\n"
      ]
    },
    {
      "cell_type": "code",
      "source": [
        "path=\"/content/drive/MyDrive/Dataset/SOCR-HeightWeight[1].csv\"\n",
        "df=pd.read_csv(path)\n",
        "df[\"Height(Inches)\"].median()"
      ],
      "metadata": {
        "colab": {
          "base_uri": "https://localhost:8080/"
        },
        "id": "vDcyGnY3wsg0",
        "outputId": "393aa89d-0339-4850-be03-2c4720a97e5d"
      },
      "execution_count": 2,
      "outputs": [
        {
          "output_type": "execute_result",
          "data": {
            "text/plain": [
              "67.9957"
            ]
          },
          "metadata": {},
          "execution_count": 2
        }
      ]
    },
    {
      "cell_type": "code",
      "source": [
        "path=\"/content/drive/MyDrive/Dataset/SOCR-HeightWeight[1].csv\"\n",
        "df=pd.read_csv(path)\n",
        "df[\"Height(Inches)\"].mean()"
      ],
      "metadata": {
        "colab": {
          "base_uri": "https://localhost:8080/"
        },
        "id": "Rx9N30QlxtU1",
        "outputId": "b51fba45-f7e4-42a2-add7-46624d4361e3"
      },
      "execution_count": 3,
      "outputs": [
        {
          "output_type": "execute_result",
          "data": {
            "text/plain": [
              "67.99311359679999"
            ]
          },
          "metadata": {},
          "execution_count": 3
        }
      ]
    },
    {
      "cell_type": "code",
      "source": [
        "path=\"/content/drive/MyDrive/Dataset/SOCR-HeightWeight[1].csv\"\n",
        "df=pd.read_csv(path)\n",
        "df[\"Height(Inches)\"].mode()"
      ],
      "metadata": {
        "colab": {
          "base_uri": "https://localhost:8080/"
        },
        "id": "CJ416F9Bxy3z",
        "outputId": "f34eec12-51b8-488c-f719-a5e7f19c93e3"
      },
      "execution_count": 4,
      "outputs": [
        {
          "output_type": "execute_result",
          "data": {
            "text/plain": [
              "0     65.65796\n",
              "1     67.34629\n",
              "2     67.41672\n",
              "3     67.94061\n",
              "4     67.97769\n",
              "5     67.98509\n",
              "6     68.30287\n",
              "7     68.92380\n",
              "8     68.93456\n",
              "9     68.97830\n",
              "10    70.04724\n",
              "Name: Height(Inches), dtype: float64"
            ]
          },
          "metadata": {},
          "execution_count": 4
        }
      ]
    },
    {
      "cell_type": "code",
      "source": [
        "path=\"/content/drive/MyDrive/Dataset/SOCR-HeightWeight[1].csv\"\n",
        "df=pd.read_csv(path)\n",
        "df[\"Weight(Pounds)\"].mean()"
      ],
      "metadata": {
        "colab": {
          "base_uri": "https://localhost:8080/"
        },
        "id": "dCKadw3GyjdE",
        "outputId": "edc74eba-9216-4cc6-e7b5-f7991d86679c"
      },
      "execution_count": 5,
      "outputs": [
        {
          "output_type": "execute_result",
          "data": {
            "text/plain": [
              "127.07942116080001"
            ]
          },
          "metadata": {},
          "execution_count": 5
        }
      ]
    },
    {
      "cell_type": "code",
      "source": [
        "path=\"/content/drive/MyDrive/Dataset/SOCR-HeightWeight[1].csv\"\n",
        "df=pd.read_csv(path)\n",
        "df[\"Weight(Pounds)\"].median()"
      ],
      "metadata": {
        "colab": {
          "base_uri": "https://localhost:8080/"
        },
        "id": "OwFSda0dyuHL",
        "outputId": "32ab288b-2f0a-40ec-b346-14b866ed0a46"
      },
      "execution_count": 6,
      "outputs": [
        {
          "output_type": "execute_result",
          "data": {
            "text/plain": [
              "127.15775"
            ]
          },
          "metadata": {},
          "execution_count": 6
        }
      ]
    },
    {
      "cell_type": "code",
      "source": [
        "path=\"/content/drive/MyDrive/Dataset/SOCR-HeightWeight[1].csv\"\n",
        "df=pd.read_csv(path)\n",
        "df[\"Weight(Pounds)\"].mode()"
      ],
      "metadata": {
        "colab": {
          "base_uri": "https://localhost:8080/"
        },
        "id": "6TbIpqDiyugk",
        "outputId": "21143ae1-fedb-42e3-c895-8ca6f56c69fd"
      },
      "execution_count": 7,
      "outputs": [
        {
          "output_type": "execute_result",
          "data": {
            "text/plain": [
              "0    124.7975\n",
              "Name: Weight(Pounds), dtype: float64"
            ]
          },
          "metadata": {},
          "execution_count": 7
        }
      ]
    }
  ]
}